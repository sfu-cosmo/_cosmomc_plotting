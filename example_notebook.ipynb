{
 "cells": [
  {
   "cell_type": "markdown",
   "metadata": {},
   "source": [
    "# _cosmomc_plotting\n",
    "\n",
    "This notebook shows a few examples to make plots from CosmoMC data."
   ]
  },
  {
   "cell_type": "code",
   "execution_count": 1,
   "metadata": {},
   "outputs": [],
   "source": [
    "import sfu_cosmo_plots.contour_2D as splots"
   ]
  },
  {
   "cell_type": "markdown",
   "metadata": {},
   "source": [
    "## 1. plotting 2D contour plots\n",
    "\n",
    "In this first part we reproduce the plot in [this paper](https://arxiv.org/abs/1901.05956).\n",
    "![title](plots/test_plot.png)"
   ]
  },
  {
   "cell_type": "code",
   "execution_count": 3,
   "metadata": {},
   "outputs": [],
   "source": [
    "# root_dir is the directory where the data is stored\n",
    "root_dir = './example_data/'\n",
    "\n",
    "# root_file is a list of files with the root of the dataset analyzed\n",
    "root_file = [\"MG_2_DE0_mnu_DES_std_2D_sigma0m1_mu0m1\", \"MG_2_DE2_mnu_DES_std_2D_sigma0m1_mu0m1\"]\n",
    "\n",
    "# output image name (without .pdf or .png)\n",
    "out_root = 'test_plot'\n",
    "\n",
    "# labels for the daasets (length has to match that of root_file)\n",
    "labels = [r'$\\Lambda$CDM', r'$(w_0, w_a)$']"
   ]
  },
  {
   "cell_type": "code",
   "execution_count": null,
   "metadata": {},
   "outputs": [
    {
     "name": "stdout",
     "output_type": "stream",
     "text": [
      "Plotting: 2 data sets.\n",
      "0 MG_2_DE0_mnu_DES_std_2D_sigma0m1_mu0m1\n",
      "1 MG_2_DE2_mnu_DES_std_2D_sigma0m1_mu0m1\n"
     ]
    }
   ],
   "source": [
    "splots.contour_2D_plot(root_dir=root_dir, \n",
    "                       file_root=root_file, \n",
    "                       out_root=out_root, \n",
    "                       x_label=r'$\\mu_0 - 1$',\n",
    "                       y_label=r'$\\Sigma_0 -1$',\n",
    "                       labels=labels, \n",
    "                       n_datasets=2, \n",
    "                       x_lim=(-1,1), \n",
    "                       y_lim=(-0.3,0.3), \n",
    "                       use_latex_font=True, \n",
    "                       hlines=None, \n",
    "                       vlines=None,\n",
    "                       legend_loc='upper right', \n",
    "                       figsize=(8,6), \n",
    "                       alpha=0.65, \n",
    "                       bounds_68_x=[-0.1, 0.1], \n",
    "                      bounds_95_x=[-0.2, 0.2])"
   ]
  },
  {
   "cell_type": "code",
   "execution_count": null,
   "metadata": {},
   "outputs": [],
   "source": []
  }
 ],
 "metadata": {
  "kernelspec": {
   "display_name": "Python 3",
   "language": "python",
   "name": "python3"
  },
  "language_info": {
   "codemirror_mode": {
    "name": "ipython",
    "version": 3
   },
   "file_extension": ".py",
   "mimetype": "text/x-python",
   "name": "python",
   "nbconvert_exporter": "python",
   "pygments_lexer": "ipython3",
   "version": "3.6.8"
  }
 },
 "nbformat": 4,
 "nbformat_minor": 2
}
